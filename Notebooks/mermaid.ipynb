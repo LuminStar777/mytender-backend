{
 "cells": [
  {
   "cell_type": "code",
   "execution_count": null,
   "id": "initial_id",
   "metadata": {
    "collapsed": true
   },
   "outputs": [],
   "source": []
  },
  {
   "cell_type": "code",
   "execution_count": 2,
   "id": "a2dfc267aa779e64",
   "metadata": {
    "ExecuteTime": {
     "end_time": "2024-10-27T23:20:03.222957Z",
     "start_time": "2024-10-27T23:20:03.219229Z"
    }
   },
   "outputs": [
    {
     "data": {
      "text/html": [
       "<img src=\"https://mermaid.ink/img/CmdyYXBoIExSOwogICAgQS0tPiBCICYgQyAmIEQ7CiAgICBCLS0-IEEgJiBFOwogICAgQy0tPiBBICYgRTsKICAgIEQtLT4gQSAmIEU7CiAgICBFLS0-IEIgJiBDICYgRDsK\"/>"
      ],
      "text/plain": [
       "<IPython.core.display.Image object>"
      ]
     },
     "metadata": {},
     "output_type": "display_data"
    }
   ],
   "source": [
    "import base64\n",
    "from IPython.display import Image, display\n",
    "import matplotlib.pyplot as plt\n",
    "\n",
    "def mm(graph):\n",
    "    graphbytes = graph.encode(\"utf8\")\n",
    "    base64_bytes = base64.urlsafe_b64encode(graphbytes)\n",
    "    base64_string = base64_bytes.decode(\"ascii\")\n",
    "    display(Image(url=\"https://mermaid.ink/img/\" + base64_string))\n",
    "\n",
    "mm(\"\"\"\n",
    "graph LR;\n",
    "    A--> B & C & D;\n",
    "    B--> A & E;\n",
    "    C--> A & E;\n",
    "    D--> A & E;\n",
    "    E--> B & C & D;\n",
    "\"\"\")"
   ]
  },
  {
   "cell_type": "code",
   "execution_count": null,
   "id": "9c4101c4e751086f",
   "metadata": {},
   "outputs": [],
   "source": []
  },
  {
   "cell_type": "code",
   "execution_count": 14,
   "id": "94371901488e7f1a",
   "metadata": {
    "ExecuteTime": {
     "end_time": "2024-10-27T23:21:03.986177Z",
     "start_time": "2024-10-27T23:21:03.794509Z"
    }
   },
   "outputs": [
    {
     "data": {
      "text/html": [
       "<img src=\"https://mermaid.ink/img/CmdyYXBoIExSOwogICAgQS0tPiBCICYgQyAmIEQ7CiAgICBCLS0-IEEgJiBFOwogICAgQy0tPiBBICYgRTsKICAgIEQtLT4gQSAmIEU7CiAgICBFLS0-IEIgJiBDICYgRDsK\"/>"
      ],
      "text/plain": [
       "<IPython.core.display.Image object>"
      ]
     },
     "metadata": {},
     "output_type": "display_data"
    }
   ],
   "source": [
    "import base64\n",
    "import requests\n",
    "from IPython.display import Image, display\n",
    "\n",
    "def mm(graph, filename='diagram.png', show=True):\n",
    "    # Convert graph to base64\n",
    "    graphbytes = graph.encode(\"utf8\")\n",
    "    base64_bytes = base64.urlsafe_b64encode(graphbytes)\n",
    "    base64_string = base64_bytes.decode(\"ascii\")\n",
    "    \n",
    "    # Generate URL\n",
    "    url = \"https://mermaid.ink/img/\" + base64_string\n",
    "    \n",
    "    # Download and save the image\n",
    "    response = requests.get(url)\n",
    "    if response.status_code == 200:\n",
    "        with open(filename, 'wb') as f:\n",
    "            f.write(response.content)\n",
    "        \n",
    "        # Optionally display the image\n",
    "        if show:\n",
    "            display(Image(url=url))\n",
    "    else:\n",
    "        print(f\"Error downloading image: Status code {response.status_code}\")\n",
    "\n",
    "# Example usage:\n",
    "mm(\"\"\"\n",
    "graph LR;\n",
    "    A--> B & C & D;\n",
    "    B--> A & E;\n",
    "    C--> A & E;\n",
    "    D--> A & E;\n",
    "    E--> B & C & D;\n",
    "\"\"\", filename='mermaid_diagram.png')"
   ]
  },
  {
   "cell_type": "code",
   "execution_count": 17,
   "id": "de5dcc41bf885829",
   "metadata": {},
   "outputs": [
    {
     "data": {
      "text/plain": [
       "'flowchart TD\\n    subgraph Tender_Documentation_Process\\n        direction TB\\n        A[Upload Documents] --> B{Document Type}\\n        B -->|Tender Specific| C[Specific Tender Documents]\\n        B -->|Previous Bids & Company Info| D[Content Library]\\n    end\\n\\n    subgraph Q&A_Generator\\n        direction TB\\n        E[Use Documents as Context] --> F[Answer Questions]\\n    end\\n\\n    C --> E\\n\\n    %% Comments explaining the diagram\\n    %% A: Start of the process where documents are uploaded\\n    %% B: Decision point to determine the type of document\\n    %% C: Documents specific to the tender\\n    %% D: Previous bids and company information stored in the Content Library\\n    %% E: Documents used as context in the Q&A Generator\\n    %% F: Final step where questions are answered using the context'"
      ]
     },
     "execution_count": 17,
     "metadata": {},
     "output_type": "execute_result"
    }
   ],
   "source": [
    "import sys\n",
    "import os\n",
    "# add sparkai-chatbot to python path without using relative paths\n",
    "sys.path.append(os.path.abspath(os.path.join(os.getcwd(), '..')))\n",
    "from services.diagram import transform_text_to_mermaid\n",
    "\n",
    "input_text = \"\"\"\n",
    "Upload documents related to this specific tender here. This is different from your previous bids and company information which belong in your Content Library. They will also be used as context in the Q&A Generator to answer questions about this tender.\n",
    "    \"\"\"\n",
    "\n",
    "    # First, generate the Mermaid code\n",
    "mermaid_code = await transform_text_to_mermaid(input_text)\n",
    "mermaid_code"
   ]
  },
  {
   "cell_type": "code",
   "execution_count": 18,
   "id": "053d6366",
   "metadata": {},
   "outputs": [
    {
     "data": {
      "text/html": [
       "<img src=\"https://mermaid.ink/img/Zmxvd2NoYXJ0IFRECiAgICBzdWJncmFwaCBUZW5kZXJfRG9jdW1lbnRhdGlvbl9Qcm9jZXNzCiAgICAgICAgZGlyZWN0aW9uIFRCCiAgICAgICAgQVtVcGxvYWQgRG9jdW1lbnRzXSAtLT4gQntEb2N1bWVudCBUeXBlfQogICAgICAgIEIgLS0-fFRlbmRlciBTcGVjaWZpY3wgQ1tTcGVjaWZpYyBUZW5kZXIgRG9jdW1lbnRzXQogICAgICAgIEIgLS0-fFByZXZpb3VzIEJpZHMgJiBDb21wYW55IEluZm98IERbQ29udGVudCBMaWJyYXJ5XQogICAgZW5kCgogICAgc3ViZ3JhcGggUSZBX0dlbmVyYXRvcgogICAgICAgIGRpcmVjdGlvbiBUQgogICAgICAgIEVbVXNlIERvY3VtZW50cyBhcyBDb250ZXh0XSAtLT4gRltBbnN3ZXIgUXVlc3Rpb25zXQogICAgZW5kCgogICAgQyAtLT4gRQoKICAgICUlIENvbW1lbnRzIGV4cGxhaW5pbmcgdGhlIGRpYWdyYW0KICAgICUlIEE6IFN0YXJ0IG9mIHRoZSBwcm9jZXNzIHdoZXJlIGRvY3VtZW50cyBhcmUgdXBsb2FkZWQKICAgICUlIEI6IERlY2lzaW9uIHBvaW50IHRvIGRldGVybWluZSB0aGUgdHlwZSBvZiBkb2N1bWVudAogICAgJSUgQzogRG9jdW1lbnRzIHNwZWNpZmljIHRvIHRoZSB0ZW5kZXIKICAgICUlIEQ6IFByZXZpb3VzIGJpZHMgYW5kIGNvbXBhbnkgaW5mb3JtYXRpb24gc3RvcmVkIGluIHRoZSBDb250ZW50IExpYnJhcnkKICAgICUlIEU6IERvY3VtZW50cyB1c2VkIGFzIGNvbnRleHQgaW4gdGhlIFEmQSBHZW5lcmF0b3IKICAgICUlIEY6IEZpbmFsIHN0ZXAgd2hlcmUgcXVlc3Rpb25zIGFyZSBhbnN3ZXJlZCB1c2luZyB0aGUgY29udGV4dA==\"/>"
      ],
      "text/plain": [
       "<IPython.core.display.Image object>"
      ]
     },
     "metadata": {},
     "output_type": "display_data"
    }
   ],
   "source": [
    "mm(mermaid_code, filename='mermaid_diagram2.png')"
   ]
  },
  {
   "cell_type": "code",
   "execution_count": null,
   "id": "07062c92",
   "metadata": {},
   "outputs": [],
   "source": []
  }
 ],
 "metadata": {
  "kernelspec": {
   "display_name": "Python 3",
   "language": "python",
   "name": "python3"
  },
  "language_info": {
   "codemirror_mode": {
    "name": "ipython",
    "version": 3
   },
   "file_extension": ".py",
   "mimetype": "text/x-python",
   "name": "python",
   "nbconvert_exporter": "python",
   "pygments_lexer": "ipython3",
   "version": "3.11.3"
  }
 },
 "nbformat": 4,
 "nbformat_minor": 5
}
