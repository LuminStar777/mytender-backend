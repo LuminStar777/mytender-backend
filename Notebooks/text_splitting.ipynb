{
 "cells": [
  {
   "cell_type": "code",
   "execution_count": 10,
   "metadata": {},
   "outputs": [],
   "source": [
    "from semantic_text_splitter import TextSplitter\n",
    "\n",
    "\n",
    "# Maximum number of characters in a chunk. Will fill up the\n",
    "# chunk until it is somewhere in this range.\n",
    "splitter = TextSplitter((200,2000))\n",
    "\n",
    "text=\"\"\"TextSplitter Semantic Levels\n",
    "Characters\n",
    "Unicode Grapheme Cluster Boundaries\n",
    "Unicode Word Boundaries\n",
    "Unicode Sentence Boundaries\n",
    "Ascending sequence length of newlines. (Newline is \\r\\n, \\n, or \\r) Each unique length of consecutive newline sequences is treated as its own semantic level. So a sequence of 2 newlines is a higher level than a sequence of 1 newline, and so on.\n",
    "Splitting doesn't occur below the character level, otherwise you could get partial bytes of a char, which may not be a valid unicode str.\n",
    "\n",
    "MarkdownSplitter Semantic Levels\n",
    "Markdown is parsed according to the CommonMark spec, along with some optional features such as GitHub Flavored Markdown.\n",
    "\n",
    "Characters\n",
    "Unicode Grapheme Cluster Boundaries\n",
    "Unicode Word Boundaries\n",
    "Unicode Sentence Boundaries\n",
    "Soft line breaks (single newline) which isn't necessarily a new element in Markdown.\n",
    "Inline elements such as: text nodes, emphasis, strong, strikethrough, link, image, table cells, inline code, footnote references, task list markers, and inline html.\n",
    "Block elements suce as: paragraphs, code blocks, footnote definitions, metadata. Also, a block quote or row/item within a table or list that can contain other \"block\" type elements, and a list or table that contains items.\n",
    "Thematic breaks or horizontal rules.\n",
    "Headings by level\"\"\"\n",
    "\n",
    "chunks = splitter.chunks(text)\n"
   ]
  },
  {
   "cell_type": "code",
   "execution_count": 11,
   "metadata": {},
   "outputs": [
    {
     "data": {
      "text/plain": [
       "2"
      ]
     },
     "execution_count": 11,
     "metadata": {},
     "output_type": "execute_result"
    }
   ],
   "source": [
    "len(chunks)"
   ]
  },
  {
   "cell_type": "code",
   "execution_count": 12,
   "metadata": {},
   "outputs": [
    {
     "data": {
      "text/plain": [
       "\"TextSplitter Semantic Levels\\nCharacters\\nUnicode Grapheme Cluster Boundaries\\nUnicode Word Boundaries\\nUnicode Sentence Boundaries\\nAscending sequence length of newlines. (Newline is \\r\\n, \\n, or \\r) Each unique length of consecutive newline sequences is treated as its own semantic level. So a sequence of 2 newlines is a higher level than a sequence of 1 newline, and so on.\\nSplitting doesn't occur below the character level, otherwise you could get partial bytes of a char, which may not be a valid unicode str.\""
      ]
     },
     "execution_count": 12,
     "metadata": {},
     "output_type": "execute_result"
    }
   ],
   "source": [
    "chunks[0]"
   ]
  },
  {
   "cell_type": "code",
   "execution_count": 13,
   "metadata": {},
   "outputs": [
    {
     "data": {
      "text/plain": [
       "[\"TextSplitter Semantic Levels\\nCharacters\\nUnicode Grapheme Cluster Boundaries\\nUnicode Word Boundaries\\nUnicode Sentence Boundaries\\nAscending sequence length of newlines. (Newline is \\r\\n, \\n, or \\r) Each unique length of consecutive newline sequences is treated as its own semantic level. So a sequence of 2 newlines is a higher level than a sequence of 1 newline, and so on.\\nSplitting doesn't occur below the character level, otherwise you could get partial bytes of a char, which may not be a valid unicode str.\",\n",
       " 'MarkdownSplitter Semantic Levels\\nMarkdown is parsed according to the CommonMark spec, along with some optional features such as GitHub Flavored Markdown.\\n\\nCharacters\\nUnicode Grapheme Cluster Boundaries\\nUnicode Word Boundaries\\nUnicode Sentence Boundaries\\nSoft line breaks (single newline) which isn\\'t necessarily a new element in Markdown.\\nInline elements such as: text nodes, emphasis, strong, strikethrough, link, image, table cells, inline code, footnote references, task list markers, and inline html.\\nBlock elements suce as: paragraphs, code blocks, footnote definitions, metadata. Also, a block quote or row/item within a table or list that can contain other \"block\" type elements, and a list or table that contains items.\\nThematic breaks or horizontal rules.\\nHeadings by level']"
      ]
     },
     "execution_count": 13,
     "metadata": {},
     "output_type": "execute_result"
    }
   ],
   "source": [
    "chunks"
   ]
  },
  {
   "cell_type": "code",
   "execution_count": null,
   "metadata": {},
   "outputs": [],
   "source": []
  }
 ],
 "metadata": {
  "kernelspec": {
   "display_name": "sparkai-chatbot-HBeMzs0F-py3.11",
   "language": "python",
   "name": "python3"
  },
  "language_info": {
   "codemirror_mode": {
    "name": "ipython",
    "version": 3
   },
   "file_extension": ".py",
   "mimetype": "text/x-python",
   "name": "python",
   "nbconvert_exporter": "python",
   "pygments_lexer": "ipython3",
   "version": "3.11.3"
  }
 },
 "nbformat": 4,
 "nbformat_minor": 2
}
